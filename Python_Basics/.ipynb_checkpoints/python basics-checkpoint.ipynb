{
 "cells": [
  {
   "cell_type": "markdown",
   "metadata": {},
   "source": [
    "A cheatsheet for Python basics <br />\n",
    "Software License Agreement (MIT License) <br />\n",
    "Copyright (c) 2019, Amirhossein Pakdaman."
   ]
  },
  {
   "cell_type": "markdown",
   "metadata": {},
   "source": [
    "# \" Python Basics \""
   ]
  },
  {
   "cell_type": "markdown",
   "metadata": {},
   "source": [
    "# Variable length argument list"
   ]
  },
  {
   "cell_type": "code",
   "execution_count": 5,
   "metadata": {},
   "outputs": [
    {
     "data": {
      "text/plain": [
       "122"
      ]
     },
     "execution_count": 5,
     "metadata": {},
     "output_type": "execute_result"
    }
   ],
   "source": [
    "# list arguments\n",
    "def mf(*args):\n",
    "    ans = 0\n",
    "    for i in args:\n",
    "        ans = i + ans\n",
    "    return ans\n",
    "mf(1,2,3,4,5,6,7,8,9,12,11,12,13,14,15)"
   ]
  },
  {
   "cell_type": "code",
   "execution_count": 7,
   "metadata": {},
   "outputs": [
    {
     "data": {
      "text/plain": [
       "550"
      ]
     },
     "execution_count": 7,
     "metadata": {},
     "output_type": "execute_result"
    }
   ],
   "source": [
    "x = (10,20,30,40,50,60,70,80,90,100)\n",
    "mf(*x)"
   ]
  },
  {
   "cell_type": "code",
   "execution_count": 24,
   "metadata": {},
   "outputs": [
    {
     "name": "stdout",
     "output_type": "stream",
     "text": [
      "Kitten Buffy says meow\n",
      "Kitten Zilla says grr\n",
      "Kitten Angel says rawr\n"
     ]
    }
   ],
   "source": [
    "# keyword arguments\n",
    "# are like list arguments, but they are dictionaries instead of tuples\n",
    "\n",
    "def main():\n",
    "    kitten(Buffy = 'meow', Zilla = 'grr', Angel = 'rawr')\n",
    "\n",
    "def kitten(**kwargs):\n",
    "    if len(kwargs):\n",
    "        for k in kwargs:\n",
    "            print('Kitten {} says {}'.format(k, kwargs[k]))\n",
    "    else: print('Meow.')\n",
    "\n",
    "if __name__ == '__main__': main()"
   ]
  },
  {
   "cell_type": "markdown",
   "metadata": {},
   "source": [
    "# One-line conditional"
   ]
  },
  {
   "cell_type": "code",
   "execution_count": 14,
   "metadata": {
    "scrolled": true
   },
   "outputs": [
    {
     "name": "stdout",
     "output_type": "stream",
     "text": [
      "x is grater or equal to y\n"
     ]
    }
   ],
   "source": [
    "x = 7\n",
    "y = 6\n",
    "st = 'x is less than y' if (x<y) else 'x is grater or equal to y'\n",
    "print(st)\n"
   ]
  },
  {
   "cell_type": "markdown",
   "metadata": {},
   "source": [
    "# Iteration"
   ]
  },
  {
   "cell_type": "code",
   "execution_count": 62,
   "metadata": {
    "scrolled": false
   },
   "outputs": [
    {
     "name": "stdout",
     "output_type": "stream",
     "text": [
      "Sun\n",
      "Mon\n",
      "Tue\n",
      "Wed\n",
      "Thr\n",
      "Fri\n",
      "Sat\n"
     ]
    }
   ],
   "source": [
    "days = ['Sun', 'Mon', 'Tue', 'Wed', 'Thr', 'Fri', 'Sat']\n",
    "for d in days:\n",
    "    print(d)"
   ]
  },
  {
   "cell_type": "code",
   "execution_count": 16,
   "metadata": {
    "scrolled": true
   },
   "outputs": [
    {
     "name": "stdout",
     "output_type": "stream",
     "text": [
      "0 Sun\n",
      "1 Mon\n",
      "2 Tue\n",
      "3 Wed\n",
      "4 Thr\n",
      "5 Fri\n",
      "6 Sat\n"
     ]
    }
   ],
   "source": [
    "days = ['Sun', 'Mon', 'Tue', 'Wed', 'Thr', 'Fri', 'Sat']\n",
    "for i, d in enumerate(days):\n",
    "    print(i, d)"
   ]
  },
  {
   "cell_type": "markdown",
   "metadata": {},
   "source": [
    "# Classes & Methods"
   ]
  },
  {
   "cell_type": "code",
   "execution_count": 61,
   "metadata": {},
   "outputs": [
    {
     "name": "stdout",
     "output_type": "stream",
     "text": [
      "cl1, mth1 something\n",
      "cl1, mth2\n",
      "cl2, mth1\n",
      "cl2, mth2 str\n",
      " \n",
      "cl2, mth1\n",
      "cl31, mth1\n",
      "cl32, mth2\n"
     ]
    }
   ],
   "source": [
    "class cl1():\n",
    "    var1 = 'something'\n",
    "    def mth1(self):\n",
    "        print('cl1, mth1',self.var1)\n",
    "    def mth2(self):\n",
    "        print('cl1, mth2')\n",
    "        \n",
    "class cl2():\n",
    "    def mth1(self):\n",
    "        print('cl2, mth1')\n",
    "    def mth2(self, str):\n",
    "        print('cl2, mth2', str)\n",
    "        \n",
    "class cl3(cl2):\n",
    "    def mth31(self):\n",
    "        print('cl31, mth1')\n",
    "    def mth2(self):\n",
    "        print('cl32, mth2')\n",
    "        \n",
    "        \n",
    "def main():\n",
    "    c1 = cl1()\n",
    "    c1.mth1()\n",
    "    c1.mth2()\n",
    "    \n",
    "    c2 = cl2()\n",
    "    c2.mth1()\n",
    "    c2.mth2('str')\n",
    "    \n",
    "    print(' ')\n",
    "    c3 = cl3()\n",
    "    c3.mth1()\n",
    "    c3.mth31()\n",
    "    c3.mth2()\n",
    "    \n",
    "    \n",
    "if __name__ == '__main__':\n",
    "    main()"
   ]
  },
  {
   "cell_type": "code",
   "execution_count": 121,
   "metadata": {},
   "outputs": [
    {
     "name": "stdout",
     "output_type": "stream",
     "text": [
      "The kitten is named \"fluffy\" and says \"rwar\".\n",
      "The duck is named \"donald\" and says \"quack\".\n",
      "The velociraptor is named \"veronica\" and says \"hello\".\n",
      "---\n",
      "The kitten is named \"fluffy\" and says \"rwar\".\n"
     ]
    }
   ],
   "source": [
    "# Constructor\n",
    "class Animal:\n",
    "    def __init__(self, type, name, sound):\n",
    "        self._type = type\n",
    "        self._name = name\n",
    "        self._sound = sound\n",
    "\n",
    "    def type(self):\n",
    "        return self._type\n",
    "\n",
    "    def name(self):\n",
    "        return self._name\n",
    "\n",
    "    def sound(self):\n",
    "        return self._sound\n",
    "    def __str__(self):\n",
    "        return f'The {self.type()} is named \"{self.name()}\" and says \"{self.sound()}\".'\n",
    "\n",
    "def print_animal(o):\n",
    "    if not isinstance(o, Animal):\n",
    "        raise TypeError('print_animal(): requires an Animal')\n",
    "    print('The {} is named \"{}\" and says \"{}\".'.format(o.type(), o.name(), o.sound()))\n",
    "\n",
    "\n",
    "def main():\n",
    "    a0 = Animal('kitten', 'fluffy', 'rwar')\n",
    "    a1 = Animal('duck', 'donald', 'quack')\n",
    "    print_animal(a0)\n",
    "    print_animal(a1)\n",
    "    print_animal(Animal('velociraptor', 'veronica', 'hello'))\n",
    "    print('---')\n",
    "    print(a0)\n",
    "\n",
    "if __name__ == '__main__': main()"
   ]
  },
  {
   "cell_type": "markdown",
   "metadata": {},
   "source": [
    "# Date & Time formatting"
   ]
  },
  {
   "cell_type": "code",
   "execution_count": 186,
   "metadata": {},
   "outputs": [
    {
     "name": "stdout",
     "output_type": "stream",
     "text": [
      "2018-06-21 12:11:22.109450\n",
      "2018 6 21 12 11 22\n",
      " \n",
      "2018\n",
      "18\n",
      " \n",
      "Thu\n",
      "Thursday\n",
      " \n",
      "Jun\n",
      "June\n",
      " \n",
      "21\n",
      " \n",
      "Thu Jun 21 12:11:22 2018\n",
      "12:11:22\n",
      "06/21/18\n",
      " \n",
      "12\n",
      "12\n",
      "11\n",
      "22\n",
      "PM\n"
     ]
    }
   ],
   "source": [
    "from datetime import datetime\n",
    "now = datetime.now()\n",
    "print(now)\n",
    "print(now.year , now.month , now.day , now.hour , now.minute , now.second)\n",
    "print(' ')\n",
    "# date formatting\n",
    "print(now.strftime('%Y')) # year\n",
    "print(now.strftime('%y')) # year\n",
    "print(' ')\n",
    "print(now.strftime('%a')) # week day\n",
    "print(now.strftime('%A')) # week day\n",
    "print(' ')\n",
    "print(now.strftime('%b')) # month day\n",
    "print(now.strftime('%B')) # month day\n",
    "print(' ')\n",
    "print(now.strftime('%d')) # day of month\n",
    "print(' ')\n",
    "print(now.strftime('%c')) # locale date & time\n",
    "print(now.strftime('%X')) # locale time\n",
    "print(now.strftime('%x')) # locale date\n",
    "print(' ')\n",
    "# time formatting\n",
    "print(now.strftime('%I')) # hour 12h\n",
    "print(now.strftime('%H')) # hour 24h\n",
    "print(now.strftime('%M')) # minute\n",
    "print(now.strftime('%S')) # second\n",
    "print(now.strftime('%p')) # am/pm\n",
    "\n"
   ]
  },
  {
   "cell_type": "markdown",
   "metadata": {},
   "source": [
    "# String type & print() function "
   ]
  },
  {
   "cell_type": "code",
   "execution_count": 60,
   "metadata": {},
   "outputs": [
    {
     "name": "stdout",
     "output_type": "stream",
     "text": [
      "Printing variables... 10, 20\n",
      "0 1 2 3 4 5 6 7 8 9 "
     ]
    }
   ],
   "source": [
    "x1 = 10\n",
    "x2 = 20\n",
    "print(f'Printing variables... {x1}, {x2}')\n",
    "\n",
    "for i in range(10):\n",
    "    print(i,end=' ', flush=True)"
   ]
  },
  {
   "cell_type": "code",
   "execution_count": 138,
   "metadata": {},
   "outputs": [
    {
     "name": "stdout",
     "output_type": "stream",
     "text": [
      "\n",
      "\n",
      "Text\n",
      "\n",
      "\n",
      "Seven\n",
      "SEVEN\n",
      "seven\n",
      "seven 8 9\n",
      "seven 9 8\n",
      "seven \"9       \" \"       8\"\n",
      "seven \"90000000\" \"00000008\"\n",
      "hELLO wORLD\n",
      "Hello World 32\n",
      "Hello World\n"
     ]
    }
   ],
   "source": [
    "x3 = '''\n",
    "\n",
    "Text\n",
    "\n",
    "'''\n",
    "print(x3)\n",
    "x4 = 'seven'.capitalize()\n",
    "print(x4)\n",
    "x5 = 'seven'.upper()\n",
    "print(x5)\n",
    "x6 = 'SEven'.lower()\n",
    "print(x6)\n",
    "x7 = 'seven {} {}'.format(8, 9)\n",
    "print(x7)\n",
    "x8 = 'seven {1} {0}'.format(8, 9)\n",
    "print(x8)\n",
    "x9 = 'seven \"{1:<8}\" \"{0:>8}\"'.format(8, 9)\n",
    "print(x9)\n",
    "x10 = 'seven \"{1:<08}\" \"{0:>08}\"'.format(8, 9)\n",
    "print(x10)\n",
    "print('Hello World'.swapcase())\n",
    "\n",
    "s = 'Hello World {}'\n",
    "print(s.format(16 * 2))\n",
    "print('helLo worlD'.title())"
   ]
  },
  {
   "cell_type": "code",
   "execution_count": 135,
   "metadata": {},
   "outputs": [
    {
     "name": "stdout",
     "output_type": "stream",
     "text": [
      "dlroW olleH\n"
     ]
    }
   ],
   "source": [
    "class MyString(str):\n",
    "    def __str__(self):\n",
    "        return self[::-1]\n",
    "s = MyString('Hello World')\n",
    "print(s)        "
   ]
  },
  {
   "cell_type": "code",
   "execution_count": 144,
   "metadata": {},
   "outputs": [
    {
     "name": "stdout",
     "output_type": "stream",
     "text": [
      "the number is: 1,359,015\n",
      "the number is: 1.359.015\n",
      "the number is: 1359015.000000\n",
      "the number is: 1359015.000\n",
      "the number is: 14bca7\n",
      "the number is: 101001011110010100111\n"
     ]
    }
   ],
   "source": [
    "x = 245 * 5547\n",
    "print('the number is: {:,}'.format(x))\n",
    "print('the number is: {:,}'.format(x).replace(',','.'))\n",
    "print('the number is: {:f}'.format(x))\n",
    "print('the number is: {:.3f}'.format(x))\n",
    "print('the number is: {:x}'.format(x))  # Hex\n",
    "print('the number is: {:b}'.format(x))  # binary"
   ]
  },
  {
   "cell_type": "code",
   "execution_count": 149,
   "metadata": {},
   "outputs": [
    {
     "name": "stdout",
     "output_type": "stream",
     "text": [
      "This is a long string with some words in it.\n",
      "['This', 'is', 'a', 'long', 'string', 'with', 'some', 'words', 'in', 'it.']\n",
      "['Th', 's ', 's a long str', 'ng w', 'th some words ', 'n ', 't.']\n",
      "This:is:a:long:string:with:some:words:in:it.\n"
     ]
    }
   ],
   "source": [
    "# splitting & joining strings\n",
    "st = 'This is a long string with some words in it.'\n",
    "print(st)\n",
    "print(st.split())\n",
    "print(st.split('i'))  # split on letter i\n",
    "\n",
    "st1 = st.split() # a list\n",
    "st2 = ':'.join(st1)\n",
    "print(st2)"
   ]
  },
  {
   "cell_type": "markdown",
   "metadata": {},
   "source": [
    "# Numeric type"
   ]
  },
  {
   "cell_type": "code",
   "execution_count": 75,
   "metadata": {},
   "outputs": [
    {
     "name": "stdout",
     "output_type": "stream",
     "text": [
      "5.551115123125783e-17\n"
     ]
    }
   ],
   "source": [
    "x = 0.1 + 0.1 + 0.1 - 0.3\n",
    "print(x) # Wrong result!"
   ]
  },
  {
   "cell_type": "code",
   "execution_count": 77,
   "metadata": {},
   "outputs": [
    {
     "name": "stdout",
     "output_type": "stream",
     "text": [
      "0.0\n"
     ]
    }
   ],
   "source": [
    "from decimal import *\n",
    "a = Decimal('0.1')\n",
    "b = Decimal('0.3')\n",
    "x = a + a + a - b\n",
    "print(x)"
   ]
  },
  {
   "cell_type": "markdown",
   "metadata": {},
   "source": [
    "# Sequence Types"
   ]
  },
  {
   "cell_type": "code",
   "execution_count": 88,
   "metadata": {},
   "outputs": [
    {
     "name": "stdout",
     "output_type": "stream",
     "text": [
      "1\n",
      "2\n",
      "3\n",
      "4\n",
      "5\n",
      "6\n",
      "7\n",
      "8\n",
      "9\n",
      "10\n",
      "[2, 4, 6, 8]\n",
      "--\n",
      "1234\n",
      "1\n",
      "100\n",
      "3\n",
      "4\n",
      "7\n",
      "1000\n",
      "--\n",
      "cat, dog, fish\n",
      "3\n"
     ]
    }
   ],
   "source": [
    "# list \n",
    "s1 = [1, 2, 3, 4, 5, 6, 7, 8, 9, 10]\n",
    "for i in s1:\n",
    "    print(i)\n",
    "print(s1[1:8:2])   # [start:stop:step]\n",
    "print('--')  \n",
    "# list is mutable, so values can be re-assigned\n",
    "s2 = [1, 2, 3, 4, 5, 6, 7, 8]\n",
    "s2[1] = 100\n",
    "s2.append(1000)\n",
    "s2.insert(0, 1234)\n",
    "s2.remove(6)  # removed by value\n",
    "#s2.pop()     # removes an item from the end of the list, pop() also returns the removed value\n",
    "s2.pop(5)     # also can remove an item at a particular index\n",
    "del s2[6]     # deletes an item at a particular index\n",
    "for i in s2:\n",
    "    print(i)\n",
    "print('--')      \n",
    "s0 = ['cat', 'dog', 'fish']\n",
    "print(', '.join(s0))\n",
    "print(len(s0))"
   ]
  },
  {
   "cell_type": "code",
   "execution_count": 82,
   "metadata": {},
   "outputs": [
    {
     "name": "stdout",
     "output_type": "stream",
     "text": [
      "1\n",
      "2\n",
      "3\n",
      "4\n"
     ]
    }
   ],
   "source": [
    "# tuple\n",
    "# tuple is exactly like list, but it is immutable\n",
    "s3 = (1, 2, 3, 4)\n",
    "# s3[1] = 100   ->  does not work\n",
    "for i in s3:\n",
    "    print(i)"
   ]
  },
  {
   "cell_type": "code",
   "execution_count": 85,
   "metadata": {},
   "outputs": [
    {
     "name": "stdout",
     "output_type": "stream",
     "text": [
      "10\n",
      "15\n",
      "20\n",
      "25\n",
      "30\n",
      "35\n",
      "40\n",
      "45\n",
      "--\n",
      "10\n",
      "15\n",
      "100\n",
      "25\n",
      "30\n",
      "35\n",
      "40\n",
      "45\n"
     ]
    }
   ],
   "source": [
    "# range\n",
    "# range is immutable\n",
    "s4 = range(10, 50, 5)\n",
    "for i in s4:\n",
    "    print(i)\n",
    "print('--')\n",
    "# to make a range mutable:\n",
    "s5 = list(range(10, 50, 5))\n",
    "s5[2] = 100\n",
    "for i in s5:\n",
    "    print(i)"
   ]
  },
  {
   "cell_type": "code",
   "execution_count": 94,
   "metadata": {},
   "outputs": [
    {
     "name": "stdout",
     "output_type": "stream",
     "text": [
      "one\n",
      "two\n",
      "three\n",
      "four\n",
      "five\n",
      "six\n",
      "--\n",
      "key: one , value: 1\n",
      "key: two , value: 2\n",
      "key: three , value: 3\n",
      "key: four , value: 4\n",
      "key: five , value: 5\n",
      "key: six , value: 6\n",
      "--\n",
      "key: one , value: 1\n",
      "key: two , value: 2\n",
      "key: three , value: 100\n",
      "key: four , value: 4\n",
      "key: five , value: 5\n",
      "key: six , value: 6\n",
      "--\n",
      "one\n",
      "two\n",
      "three\n",
      "four\n",
      "five\n",
      "six\n",
      "--\n",
      "1\n",
      "2\n",
      "100\n",
      "4\n",
      "5\n",
      "6\n",
      "--\n",
      "None\n",
      "5\n"
     ]
    }
   ],
   "source": [
    "# Dictionary\n",
    "# a searchable sequence of key - value pairs\n",
    "s6 = {'one':1 , 'two':2 , 'three':3 , 'four':4 , 'five':5}      # 'one' = key  :  1 = value\n",
    "#s6 = dict(x=42 , y=43 , z=44)\n",
    "s6['six'] = 6   # adds a new item\n",
    "for i in s6:\n",
    "    print(i)\n",
    "print('--')\n",
    "for k, v in s6.items():\n",
    "    print('key: {} , value: {}'.format(k,v))\n",
    "print('--')\n",
    "# dictionary is mutale\n",
    "s6['three'] = 100       # key is used to index, value is changed\n",
    "for k, v in s6.items():\n",
    "    print('key: {} , value: {}'.format(k,v))\n",
    "print('--')\n",
    "for k in s6.keys(): \n",
    "    print(k)\n",
    "print('--')\n",
    "for v in s6.values(): \n",
    "    print(v)\n",
    "print('--')\n",
    "print(s6.get('ten'))\n",
    "print(s6.get('five'))"
   ]
  },
  {
   "cell_type": "code",
   "execution_count": 107,
   "metadata": {},
   "outputs": [
    {
     "name": "stdout",
     "output_type": "stream",
     "text": [
      "{1, 2, 3, 4}\n",
      "--\n",
      "{'e', 'W', 'b', ' ', 'i', \"'\", 'r', 'n', 'd', 'a', '.', 'o', 't', 'g'}\n",
      "{'D', 'r', 'v', 'o', 'f', 'i', ' ', 'c', \"'\", 'h', 'y', 'I', 'a', 'd', '.', 's', 'e', 'm', 'n', 't', ','}\n",
      "[' ', \"'\", ',', '.', 'D', 'I', 'a', 'c', 'd', 'e', 'f', 'h', 'i', 'm', 'n', 'o', 'r', 's', 't', 'v', 'y']\n",
      "{'W', 'b', 'g'}\n",
      "{'D', 'W', 'v', 'f', 's', 'g', 'b', 'c', 'm', 'h', 'y', 'I', ','}\n",
      "{'e', 'i', ' ', \"'\", 'r', 'n', 'd', 'a', '.', 'o', 't'}\n"
     ]
    }
   ],
   "source": [
    "# set\n",
    "# an unordered list of unique values, it does not allow duplicate elements\n",
    "s7 = {1, 2, 3, 4, 1}\n",
    "print(s7)\n",
    "print('--')\n",
    "a = set(\"We're gonna need a bigger boat.\")\n",
    "b = set(\"I'm sorry, Dave. I'm afraid I can't do that.\")\n",
    "print(a)\n",
    "print(b)\n",
    "print(sorted(b))\n",
    "print(a - b)\n",
    "print(a ^ b)\n",
    "print(a & b)"
   ]
  },
  {
   "cell_type": "code",
   "execution_count": 118,
   "metadata": {},
   "outputs": [
    {
     "name": "stdout",
     "output_type": "stream",
     "text": [
      "range(0, 11)\n",
      "[0, 2, 4, 6, 8, 10, 12, 14, 16, 18, 20]\n",
      "[1, 2, 4, 5, 7, 8, 10]\n",
      "[(0, 0), (1, 1), (2, 4), (3, 9), (4, 16), (5, 25), (6, 36), (7, 49), (8, 64), (9, 81), (10, 100)]\n",
      "{0: 0, 1: 1, 2: 4, 3: 9, 4: 16, 5: 25, 6: 36, 7: 49, 8: 64, 9: 81, 10: 100}\n",
      "{'e', 'u', 'r', 's'}\n"
     ]
    }
   ],
   "source": [
    "# list comprehension\n",
    "seq1 = range(11)\n",
    "seq2 = [x * 2 for x in seq1]\n",
    "seq3 = [x for x in seq1 if x % 3 != 0]  # only the elements that are not divisible by 3 \n",
    "seq4 = [(x, x**2) for x in seq1]  # tuple\n",
    "seq5 = {x: x**2 for x in seq1}  # dictionary\n",
    "seq6 = {x for x in 'superduper' if x not in 'pd'} # set\n",
    "print(seq1)\n",
    "print(seq2)\n",
    "print(seq3)\n",
    "print(seq4)\n",
    "print(seq5)\n",
    "print(seq6)"
   ]
  },
  {
   "cell_type": "markdown",
   "metadata": {},
   "source": [
    "# Finding Type & ID"
   ]
  },
  {
   "cell_type": "code",
   "execution_count": 102,
   "metadata": {},
   "outputs": [
    {
     "name": "stdout",
     "output_type": "stream",
     "text": [
      "variable is: 5\n",
      "<class 'int'>\n",
      "variable is: (1, 2, 3, 4)\n",
      "<class 'tuple'>\n",
      "variable is: (1, 'two', 3, [4, 'four'], 5)\n",
      "<class 'tuple'>\n",
      "<class 'str'>\n",
      "1862663473416\n",
      "1862662858360\n",
      "ja\n"
     ]
    }
   ],
   "source": [
    "t1 = 5\n",
    "print('variable is: {}'.format(t1))\n",
    "print(type(t1))\n",
    "\n",
    "t2 = (1, 2, 3, 4)\n",
    "print('variable is: {}'.format(t2))\n",
    "print(type(t2))\n",
    "\n",
    "t3 = (1, 'two', 3, [4, 'four'], 5)\n",
    "print('variable is: {}'.format(t3))\n",
    "print(type(t3))\n",
    "print(type(t3[1]))\n",
    "\n",
    "print(id(t2))  # id() returns a unique identifier for each object\n",
    "print(id(t3))\n",
    "\n",
    "if isinstance(t3, tuple): \n",
    "    print('ja')\n",
    "else: \n",
    "    print('nein')"
   ]
  },
  {
   "cell_type": "markdown",
   "metadata": {},
   "source": [
    "# Conditional Operators"
   ]
  },
  {
   "cell_type": "code",
   "execution_count": 138,
   "metadata": {},
   "outputs": [
    {
     "name": "stdout",
     "output_type": "stream",
     "text": [
      "a3: False\n",
      "a1 is not a2: True\n",
      "'a' in xx: True\n",
      "3 not in xx: False\n",
      "a4 and a5: False\n",
      "b3: True\n"
     ]
    }
   ],
   "source": [
    "# comparison operators\n",
    "# ==    !=    <    >    <=    >=\n",
    "# logical operators\n",
    "# and    or    not\n",
    "# identity operators\n",
    "# is    is not\n",
    "# membership operators\n",
    "# in    not in\n",
    "\n",
    "def fn1():\n",
    "    None\n",
    "def fn2():\n",
    "    None\n",
    "    \n",
    "a1 = fn1\n",
    "a2 = fn2\n",
    "a3 = a1 is a2\n",
    "print('a3:',a3)\n",
    "print('a1 is not a2:', a1 is not a2)\n",
    "\n",
    "xx = ['a', 1, 2, 3]\n",
    "print(\"'a' in xx:\", 'a' in xx)\n",
    "\n",
    "print('3 not in xx:', 3 not in xx)\n",
    "\n",
    "a4 = True\n",
    "a5 = False\n",
    "print('a4 and a5:', a4 and a5)\n",
    "\n",
    "b1 = ('cat', 'dog', 'fish')\n",
    "b2 = 'dog'\n",
    "b3 = b2 is b1[1]\n",
    "print('b3:', b3)"
   ]
  },
  {
   "cell_type": "markdown",
   "metadata": {},
   "source": [
    "# Arithmatic Operators"
   ]
  },
  {
   "cell_type": "code",
   "execution_count": 121,
   "metadata": {},
   "outputs": [
    {
     "name": "stdout",
     "output_type": "stream",
     "text": [
      "1000\n",
      "3.3333333333333335\n",
      "3\n"
     ]
    }
   ],
   "source": [
    "# +  Addition\n",
    "# -  Subtraction\n",
    "# *  Multiplication\n",
    "# /  Division\n",
    "# // Integer division\n",
    "# %  Reminder\n",
    "# ** Exponent\n",
    "# -  Unary negative\n",
    "# +  Unary positive\n",
    "\n",
    "x = 10\n",
    "y = 3\n",
    "z1 = x**y # z1 = x^y\n",
    "print(z1)\n",
    "\n",
    "z2 = x / y\n",
    "print(z2) # result is float\n",
    "\n",
    "z2 = x // y\n",
    "print(z2) # result is integer\n"
   ]
  },
  {
   "cell_type": "markdown",
   "metadata": {},
   "source": [
    "# Bitwise Operators"
   ]
  },
  {
   "cell_type": "code",
   "execution_count": 124,
   "metadata": {},
   "outputs": [
    {
     "name": "stdout",
     "output_type": "stream",
     "text": [
      "Hex: b1 is 0a , b2 is 02 , b3 is 02\n",
      "Bin: b1 is 00001010 , b2 is 00000010 , b3 is 00000010\n"
     ]
    }
   ],
   "source": [
    "# &  And\n",
    "# |  Or\n",
    "# ^  Xor\n",
    "# << Shift left\n",
    "# >> Shift right\n",
    "b1 = 0x0a\n",
    "b2 = 0x02\n",
    "b3 = b1 & b2\n",
    "print(f'Hex: b1 is {b1:02x} , b2 is {b2:02x} , b3 is {b2:02x}')\n",
    "print(f'Bin: b1 is {b1:08b} , b2 is {b2:08b} , b3 is {b2:08b}')"
   ]
  },
  {
   "cell_type": "markdown",
   "metadata": {},
   "source": [
    "# Generator"
   ]
  },
  {
   "cell_type": "code",
   "execution_count": 47,
   "metadata": {},
   "outputs": [
    {
     "data": {
      "text/plain": [
       "<generator object gen at 0x0000023823D9E1A8>"
      ]
     },
     "execution_count": 47,
     "metadata": {},
     "output_type": "execute_result"
    }
   ],
   "source": [
    "def gen():\n",
    "    i = 0\n",
    "    z = 5\n",
    "    while i <= z:\n",
    "        yield i\n",
    "        i += 1 \n",
    "gen()"
   ]
  },
  {
   "cell_type": "code",
   "execution_count": 48,
   "metadata": {},
   "outputs": [
    {
     "name": "stdout",
     "output_type": "stream",
     "text": [
      "0\n",
      "1\n",
      "2\n",
      "3\n",
      "4\n",
      "5\n"
     ]
    }
   ],
   "source": [
    "for i in gen():\n",
    "    print(i)"
   ]
  },
  {
   "cell_type": "markdown",
   "metadata": {},
   "source": [
    "# Decorator"
   ]
  },
  {
   "cell_type": "code",
   "execution_count": 61,
   "metadata": {},
   "outputs": [
    {
     "name": "stdout",
     "output_type": "stream",
     "text": [
      "---1---\n",
      "before f call\n",
      "func3\n",
      "after f call\n",
      "---2---\n",
      "before f call\n",
      "func3\n",
      "after f call\n"
     ]
    }
   ],
   "source": [
    "def f1(f):\n",
    "    def f2():\n",
    "        print('before f call')\n",
    "        f()\n",
    "        print('after f call')\n",
    "    return f2\n",
    "\n",
    "def f3():\n",
    "    print('func3')\n",
    "\n",
    "print('---1---')    \n",
    "x = f1(f3)\n",
    "x()\n",
    "\n",
    "print('---2---') # f3 in its original form is no longer available, only the wrapper is available, that's meta & wierd!\n",
    "f3 = f1(f3)\n",
    "f3()\n"
   ]
  },
  {
   "cell_type": "code",
   "execution_count": 62,
   "metadata": {},
   "outputs": [
    {
     "name": "stdout",
     "output_type": "stream",
     "text": [
      "before f call\n",
      "func3\n",
      "after f call\n"
     ]
    }
   ],
   "source": [
    "def f1(f):\n",
    "    def f2():\n",
    "        print('before f call')\n",
    "        f()\n",
    "        print('after f call')\n",
    "    return f2\n",
    "\n",
    "@f1                             # decorator is a shortcut for this\n",
    "def f3():\n",
    "    print('func3')\n",
    "    \n",
    "f3()                            # f3 is now wrapped inside that decorator function"
   ]
  },
  {
   "cell_type": "markdown",
   "metadata": {},
   "source": [
    "# Exceptions"
   ]
  },
  {
   "cell_type": "code",
   "execution_count": 123,
   "metadata": {},
   "outputs": [
    {
     "name": "stdout",
     "output_type": "stream",
     "text": [
      "There is a Value Error!!\n",
      "Rest of code...\n"
     ]
    }
   ],
   "source": [
    "try:\n",
    "    aa = int('abc')\n",
    "except ValueError: print('There is a Value Error!!')\n",
    "else: print('No error caught')\n",
    "print('Rest of code...')"
   ]
  },
  {
   "cell_type": "code",
   "execution_count": 124,
   "metadata": {},
   "outputs": [
    {
     "name": "stdout",
     "output_type": "stream",
     "text": [
      "Unknown Error!!\n",
      "Rest of code...\n"
     ]
    }
   ],
   "source": [
    "try:\n",
    "    aa = 9/0\n",
    "except: print('Unknown Error!!')\n",
    "else: print('No error caught')\n",
    "print('Rest of code...')"
   ]
  },
  {
   "cell_type": "code",
   "execution_count": 127,
   "metadata": {},
   "outputs": [
    {
     "name": "stdout",
     "output_type": "stream",
     "text": [
      "Unknown Error!! -- division by zero\n",
      "Rest of code...\n"
     ]
    }
   ],
   "source": [
    "import sys\n",
    "try:\n",
    "    aa = 9/0\n",
    "except: print(f'Unknown Error!! -- {sys.exc_info()[1]}')\n",
    "else: print('No error caught')\n",
    "print('Rest of code...')"
   ]
  },
  {
   "cell_type": "code",
   "execution_count": 130,
   "metadata": {},
   "outputs": [
    {
     "name": "stdout",
     "output_type": "stream",
     "text": [
      "fn1 working...\n",
      "error: {e}\n"
     ]
    }
   ],
   "source": [
    "def fn1(*args):\n",
    "    arglen = len(args)\n",
    "    if arglen < 1:\n",
    "        raise TypeError(f'expected at least 1 argument, it is:{arglen}')\n",
    "    elif arglen > 3:\n",
    "        raise TypeError(f'expected at most 3 argument, it is:{arglen}')\n",
    "    print('fn1 working...')\n",
    "\n",
    "fn1(1)\n",
    "try:\n",
    "    fn1()\n",
    "except TypeError as e:\n",
    "    print('error: {e}')\n",
    "                   "
   ]
  },
  {
   "cell_type": "markdown",
   "metadata": {},
   "source": [
    "# Files"
   ]
  },
  {
   "cell_type": "code",
   "execution_count": 151,
   "metadata": {},
   "outputs": [
    {
     "name": "stdout",
     "output_type": "stream",
     "text": [
      "01 The first line.\n",
      "02 The second line.\n",
      "03 The third line.\n",
      "04 The fourth line.\n",
      "05 The fifth line.\n",
      "06 The sixth line.\n",
      "07 The seventh line.\n",
      "08 The eight line.\n",
      "09 The ninth line.\n",
      "10 The tenth line.\n"
     ]
    }
   ],
   "source": [
    "# opening a file\n",
    "f = open('lines.txt', 'r')  # access: 'r' : read , 'w' : write , 'a' : append , 'b' : binary mode , 't' : text mode\n",
    "for l in f:\n",
    "    print(l.rstrip())"
   ]
  },
  {
   "cell_type": "code",
   "execution_count": 154,
   "metadata": {},
   "outputs": [
    {
     "name": "stdout",
     "output_type": "stream",
     "text": [
      "..........\n",
      "done.\n"
     ]
    }
   ],
   "source": [
    "# writing text files\n",
    "infile = open('lines.txt', 'rt')\n",
    "outfile = open('lines-copy.txt', 'wt')\n",
    "for line in infile:\n",
    "    print(line.rstrip(), file=outfile)\n",
    "    #outfile.writelines(line)      # same as print(line.rstrip(), file=outfile)\n",
    "    print('.', end='', flush=True)\n",
    "outfile.close()\n",
    "print('\\ndone.')"
   ]
  },
  {
   "cell_type": "code",
   "execution_count": 156,
   "metadata": {},
   "outputs": [
    {
     "name": "stdout",
     "output_type": "stream",
     "text": [
      "....................................................................\n",
      "done.\n"
     ]
    }
   ],
   "source": [
    "# writing binary files\n",
    "infile = open('bonn.jpg', 'rb')\n",
    "outfile = open('bonn-copy.jpg', 'wb')\n",
    "while True:\n",
    "    buf = infile.read(10240)\n",
    "    if buf:\n",
    "        outfile.write(buf)\n",
    "        print('.', end='', flush=True)\n",
    "    else: break\n",
    "outfile.close()\n",
    "print('\\ndone.')"
   ]
  },
  {
   "cell_type": "code",
   "execution_count": 163,
   "metadata": {},
   "outputs": [
    {
     "name": "stdout",
     "output_type": "stream",
     "text": [
      "75\n",
      "75\n",
      "75.0\n",
      "-92.3\n",
      "92.3\n",
      "23\n",
      "(7, 2)\n",
      "(23+12j)\n",
      "(3+4j)\n"
     ]
    }
   ],
   "source": [
    "# numeric functions\n",
    "a = '75'\n",
    "b = int(a)\n",
    "c = float(a)\n",
    "d = -92.3\n",
    "e = abs(d)\n",
    "f = 23\n",
    "g = divmod(f, 3)  # returns a tuple of quotient and remainder\n",
    "h = f + 12j       # complex\n",
    "i = complex(3,4)  # complex\n",
    "\n",
    "print(a)\n",
    "print(b)\n",
    "print(c)\n",
    "print(d)\n",
    "print(e)\n",
    "print(f)\n",
    "print(g)\n",
    "print(h)\n",
    "print(i)"
   ]
  },
  {
   "cell_type": "code",
   "execution_count": 173,
   "metadata": {},
   "outputs": [
    {
     "name": "stdout",
     "output_type": "stream",
     "text": [
      "(1, 2, 3, 4, 5)\n",
      "5\n",
      "[5, 4, 3, 2, 1]\n",
      "15\n",
      "5\n",
      "1\n",
      "--\n",
      "False\n",
      "True\n",
      "False\n",
      "True\n",
      "--\n",
      "1 - 6\n",
      "2 - 7\n",
      "3 - 8\n",
      "4 - 9\n",
      "5 - 10\n",
      "--\n",
      "0 : cat\n",
      "1 : dog\n",
      "2 : fish\n"
     ]
    }
   ],
   "source": [
    "# container functions\n",
    "a = (1,2,3,4,5)\n",
    "b = len(a)\n",
    "c = list(reversed(a))\n",
    "d = sum(a)\n",
    "e = max(a)\n",
    "f = min(a)\n",
    "\n",
    "print(a)\n",
    "print(b)\n",
    "print(c)\n",
    "print(d)\n",
    "print(e)\n",
    "print(f)\n",
    "print('--')\n",
    "\n",
    "g = (0,0,0,0)\n",
    "h = any(g)\n",
    "print(h)\n",
    "\n",
    "i = (0,0,6,0)\n",
    "j = any(i)\n",
    "print(j)\n",
    "\n",
    "k = (1,2,0,5)\n",
    "l = all(k)\n",
    "print(l)\n",
    "\n",
    "m = (1,2,4,5)\n",
    "n = all(m)\n",
    "print(n)\n",
    "print('--')\n",
    "\n",
    "o = (1,2,3,4,5)\n",
    "p = (6,7,8,9,10)\n",
    "q = zip(o,p)\n",
    "for a,b in q: print(f'{a} - {b}')\n",
    "print('--')\n",
    "\n",
    "r = ('cat', 'dog', 'fish')\n",
    "for i,v in enumerate(r): print(f'{i} : {v}')"
   ]
  },
  {
   "cell_type": "markdown",
   "metadata": {},
   "source": [
    "# Modules"
   ]
  },
  {
   "cell_type": "code",
   "execution_count": 185,
   "metadata": {
    "scrolled": true
   },
   "outputs": [
    {
     "name": "stdout",
     "output_type": "stream",
     "text": [
      "nt\n",
      "win32\n",
      "b11fdec3d836e1b5115c0a2c23460aeca9400d07e9d7db6c73\n",
      "776\n",
      "[5, 6, 7, 8, 9, 10, 11, 12, 13, 14, 15, 16, 17, 18, 19, 20, 21, 22, 23, 24, 25, 26, 27, 28, 29]\n",
      "[22, 11, 26, 24, 28, 7, 10, 25, 8, 29, 6, 17, 12, 14, 9, 5, 23, 15, 13, 18, 20, 16, 27, 19, 21]\n"
     ]
    }
   ],
   "source": [
    "import os\n",
    "import sys\n",
    "import random\n",
    "print(os.name)\n",
    "print(sys.platform)\n",
    "print(os.urandom(25).hex())      # random number from os random number generator\n",
    "print(random.randint(1,1000))    # random number from random module\n",
    "\n",
    "ls = list(range(5,30))\n",
    "print(ls)\n",
    "random.shuffle(ls)\n",
    "print(ls)"
   ]
  },
  {
   "cell_type": "code",
   "execution_count": null,
   "metadata": {},
   "outputs": [],
   "source": []
  }
 ],
 "metadata": {
  "kernelspec": {
   "display_name": "Python 3",
   "language": "python",
   "name": "python3"
  },
  "language_info": {
   "codemirror_mode": {
    "name": "ipython",
    "version": 3
   },
   "file_extension": ".py",
   "mimetype": "text/x-python",
   "name": "python",
   "nbconvert_exporter": "python",
   "pygments_lexer": "ipython3",
   "version": "3.5.2"
  }
 },
 "nbformat": 4,
 "nbformat_minor": 2
}
