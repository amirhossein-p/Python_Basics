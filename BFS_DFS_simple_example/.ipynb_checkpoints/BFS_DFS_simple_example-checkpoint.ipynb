{
 "cells": [
  {
   "cell_type": "markdown",
   "metadata": {},
   "source": [
    "Software License Agreement (MIT License) <br />\n",
    "Copyright (c) 2020, Amirhossein Pakdaman."
   ]
  },
  {
   "cell_type": "markdown",
   "metadata": {},
   "source": [
    "## Simple DFS, BFS \n",
    "**Problem**: Implement a search tree with the following characteristics:\n",
    "1. The initial state contains value 10.\n",
    "2. At each step two successors are created, the value one of them is one unit smaller than its parent and the other is one unit larger.\n",
    "3. Search tree continues up to 3 levels of depth."
   ]
  },
  {
   "cell_type": "code",
   "execution_count": 3,
   "metadata": {},
   "outputs": [
    {
     "data": {
      "image/png": "[encoded data removed]",
      "text/plain": [
       "<IPython.core.display.Image object>"
      ]
     },
     "execution_count": 3,
     "metadata": {},
     "output_type": "execute_result"
    }
   ],
   "source": [
    "import IPython\n",
    "IPython.core.display.Image(\"tree.png\", embed=True)"
   ]
  },
  {
   "cell_type": "markdown",
   "metadata": {},
   "source": [
    "### BFS"
   ]
  },
  {
   "cell_type": "code",
   "execution_count": 1,
   "metadata": {},
   "outputs": [
    {
     "name": "stdout",
     "output_type": "stream",
     "text": [
      "10\n",
      "9\n",
      "11\n",
      "8\n",
      "10\n",
      "10\n",
      "12\n",
      "7\n",
      "9\n",
      "9\n",
      "11\n",
      "9\n",
      "11\n",
      "11\n",
      "13\n"
     ]
    }
   ],
   "source": [
    "import queue\n",
    "\n",
    "class Node:\n",
    "    def __init__(self,value,parent,depth):\n",
    "        self.value = value\n",
    "        self.parent = parent\n",
    "        self.depth = depth\n",
    "            \n",
    "parent = Node(10,None,0)\n",
    "frontier = queue.Queue()\n",
    "frontier.put(parent)\n",
    "\n",
    "while frontier:\n",
    "    current_node = frontier.get()\n",
    "    \n",
    "    if current_node.depth > 3:\n",
    "        break\n",
    "    \n",
    "    frontier.put(Node(current_node.value-1, current_node, current_node.depth+1))\n",
    "    frontier.put(Node(current_node.value+1, current_node, current_node.depth+1))\n",
    "    print(current_node.value)"
   ]
  },
  {
   "cell_type": "markdown",
   "metadata": {},
   "source": [
    "### DFS"
   ]
  },
  {
   "cell_type": "code",
   "execution_count": 2,
   "metadata": {},
   "outputs": [
    {
     "name": "stdout",
     "output_type": "stream",
     "text": [
      "10\n",
      "9\n",
      "8\n",
      "7\n",
      "9\n",
      "10\n",
      "9\n",
      "11\n",
      "11\n",
      "10\n",
      "9\n",
      "11\n",
      "12\n",
      "11\n",
      "13\n"
     ]
    }
   ],
   "source": [
    "class Node:\n",
    "    def __init__(self,value,parent,depth):\n",
    "        self.value = value\n",
    "        self.parent = parent\n",
    "        self.depth = depth\n",
    "         \n",
    "parent = Node(10,None,0)\n",
    "frontier = []\n",
    "frontier.append(parent)\n",
    "\n",
    "while frontier:\n",
    "    current_node = frontier.pop()\n",
    "    \n",
    "    if current_node.depth > 3:\n",
    "        current_node = frontier.pop()\n",
    "        if len(frontier) == 0:\n",
    "            break\n",
    "        current_node = frontier.pop()\n",
    "        \n",
    "    frontier.append(Node(current_node.value+1, current_node, current_node.depth+1))\n",
    "    frontier.append(Node(current_node.value-1, current_node, current_node.depth+1))\n",
    "    print(current_node.value)\n"
   ]
  },
  {
   "cell_type": "code",
   "execution_count": null,
   "metadata": {},
   "outputs": [],
   "source": []
  }
 ],
 "metadata": {
  "kernelspec": {
   "display_name": "Python 3",
   "language": "python",
   "name": "python3"
  },
  "language_info": {
   "codemirror_mode": {
    "name": "ipython",
    "version": 3
   },
   "file_extension": ".py",
   "mimetype": "text/x-python",
   "name": "python",
   "nbconvert_exporter": "python",
   "pygments_lexer": "ipython3",
   "version": "3.5.2"
  }
 },
 "nbformat": 4,
 "nbformat_minor": 2
}
