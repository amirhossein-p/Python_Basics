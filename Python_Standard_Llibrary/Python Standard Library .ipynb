{
 "cells": [
  {
   "cell_type": "markdown",
   "metadata": {},
   "source": [
    "A cheatsheet for Python standard library <br />\n",
    "Software License Agreement (MIT License) <br />\n",
    "Copyright (c) 2019, Amirhossein Pakdaman."
   ]
  },
  {
   "cell_type": "markdown",
   "metadata": {},
   "source": [
    "# \"Python Standard Library\""
   ]
  },
  {
   "cell_type": "markdown",
   "metadata": {},
   "source": [
    "# math"
   ]
  },
  {
   "cell_type": "code",
   "execution_count": 7,
   "metadata": {},
   "outputs": [],
   "source": [
    "import math"
   ]
  },
  {
   "cell_type": "code",
   "execution_count": 10,
   "metadata": {},
   "outputs": [
    {
     "name": "stdout",
     "output_type": "stream",
     "text": [
      "3.141592653589793\n",
      "2.718281828459045\n",
      "nan\n",
      "inf\n",
      "-inf\n"
     ]
    }
   ],
   "source": [
    "# constants\n",
    "\n",
    "print(math.pi)\n",
    "print(math.e)\n",
    "print(math.nan)\n",
    "print(math.inf)\n",
    "print(-math.inf)"
   ]
  },
  {
   "cell_type": "code",
   "execution_count": 11,
   "metadata": {},
   "outputs": [
    {
     "name": "stdout",
     "output_type": "stream",
     "text": [
      "0.7071067811865476\n",
      "0.7071067811865476\n"
     ]
    }
   ],
   "source": [
    "# trigonometry\n",
    "\n",
    "a1 = math.cos(math.pi / 4) # cos(45) deg\n",
    "a2 = math.sin(math.pi / 4) # sin(45) deg\n",
    "print(a1)\n",
    "print(a2)"
   ]
  },
  {
   "cell_type": "code",
   "execution_count": 16,
   "metadata": {},
   "outputs": [
    {
     "name": "stdout",
     "output_type": "stream",
     "text": [
      "48\n",
      "48\n",
      "48\n",
      "47\n",
      "47\n",
      "47\n"
     ]
    }
   ],
   "source": [
    "# ciel & floor\n",
    "\n",
    "print(math.ceil(47.3))    # rounds up\n",
    "print(math.ceil(47.8))\n",
    "print(math.ceil(48))\n",
    "\n",
    "print(math.floor(47.3))   # rounds down\n",
    "print(math.floor(47.8))\n",
    "print(math.floor(47))"
   ]
  },
  {
   "cell_type": "code",
   "execution_count": 17,
   "metadata": {},
   "outputs": [
    {
     "name": "stdout",
     "output_type": "stream",
     "text": [
      "6\n",
      "8.0\n"
     ]
    }
   ],
   "source": [
    "# factorial & square root\n",
    "\n",
    "print(math.factorial(3))\n",
    "print(math.sqrt(64))"
   ]
  },
  {
   "cell_type": "code",
   "execution_count": 18,
   "metadata": {},
   "outputs": [
    {
     "name": "stdout",
     "output_type": "stream",
     "text": [
      "4\n"
     ]
    }
   ],
   "source": [
    "# GCD : Gratest Common Denominator\n",
    "\n",
    "print(math.gcd(52,8))"
   ]
  },
  {
   "cell_type": "code",
   "execution_count": 19,
   "metadata": {},
   "outputs": [
    {
     "name": "stdout",
     "output_type": "stream",
     "text": [
      "6.283185307179586\n",
      "360.0\n"
     ]
    }
   ],
   "source": [
    "# degrees & radians\n",
    "\n",
    "print(math.radians(360))\n",
    "print(math.degrees(math.pi * 2))"
   ]
  },
  {
   "cell_type": "markdown",
   "metadata": {},
   "source": [
    "# random"
   ]
  },
  {
   "cell_type": "code",
   "execution_count": 20,
   "metadata": {},
   "outputs": [],
   "source": [
    "import random"
   ]
  },
  {
   "cell_type": "code",
   "execution_count": 36,
   "metadata": {},
   "outputs": [
    {
     "name": "stdout",
     "output_type": "stream",
     "text": [
      "0.5054766469456693\n",
      "1\n",
      "2\n",
      "[30, 37, 95, 11, 29]\n",
      "dog\n",
      "['fish', 'kitten', 'cat', 'dog']\n"
     ]
    }
   ],
   "source": [
    "print(random.random())                     # float random between 0 & 1\n",
    "print(random.randrange(2))                 # random 0 or 1\n",
    "print(random.randrange(1,7))               # random between 1 & 6\n",
    "\n",
    "winners = random.sample(range(100),5)      # selects 5 numbers from the range and returns in a list\n",
    "print(winners)\n",
    "\n",
    "pets = ['cat', 'dog', 'fish', 'kitten']\n",
    "print(random.choice(pets))\n",
    "\n",
    "random.shuffle(pets)\n",
    "print(pets)\n"
   ]
  },
  {
   "cell_type": "markdown",
   "metadata": {},
   "source": [
    "# statistics"
   ]
  },
  {
   "cell_type": "code",
   "execution_count": 2,
   "metadata": {},
   "outputs": [],
   "source": [
    "import statistics"
   ]
  },
  {
   "cell_type": "code",
   "execution_count": 8,
   "metadata": {},
   "outputs": [
    {
     "name": "stdout",
     "output_type": "stream",
     "text": [
      "11.666666666666666\n",
      "10\n",
      "11\n",
      "3.75\n",
      "1.9364916731037085\n"
     ]
    }
   ],
   "source": [
    "data = [10, 15, 10, 11, 12, 10, 10, 13, 14]\n",
    "print(statistics.mean(data))      # avarage\n",
    "print(statistics.mode(data))      # most frequent value\n",
    "print(statistics.median(data))    # mid point of data\n",
    "\n",
    "print(statistics.variance(data))  # variance - the avarage of squared differences from the mean, tells how varied is the data\n",
    "print(statistics.stdev(data))     # standard diviation - the square root of devience"
   ]
  },
  {
   "cell_type": "markdown",
   "metadata": {},
   "source": [
    "# itertools"
   ]
  },
  {
   "cell_type": "code",
   "execution_count": 9,
   "metadata": {},
   "outputs": [],
   "source": [
    "import itertools"
   ]
  },
  {
   "cell_type": "code",
   "execution_count": 12,
   "metadata": {},
   "outputs": [
    {
     "name": "stdout",
     "output_type": "stream",
     "text": [
      "50\n",
      "55\n",
      "60\n",
      "65\n",
      "70\n"
     ]
    }
   ],
   "source": [
    "# infinite count\n",
    "for x in itertools.count(50,5): \n",
    "    print(x)\n",
    "    if x >= 70: break"
   ]
  },
  {
   "cell_type": "code",
   "execution_count": 13,
   "metadata": {},
   "outputs": [
    {
     "name": "stdout",
     "output_type": "stream",
     "text": [
      "R\n",
      "A\n",
      "C\n",
      "E\n",
      "C\n",
      "A\n",
      "R\n",
      "R\n",
      "A\n",
      "C\n"
     ]
    }
   ],
   "source": [
    "# infinite cycle\n",
    "i = 0\n",
    "for c in itertools.cycle('RACECAR'):\n",
    "    print(c)\n",
    "    i += 1\n",
    "    if i >= 10: break\n",
    "    "
   ]
  },
  {
   "cell_type": "code",
   "execution_count": 15,
   "metadata": {},
   "outputs": [
    {
     "name": "stdout",
     "output_type": "stream",
     "text": [
      "True\n",
      "True\n",
      "True\n",
      "True\n",
      "True\n",
      "True\n",
      "True\n",
      "True\n",
      "True\n",
      "True\n"
     ]
    }
   ],
   "source": [
    "# infinite repeat\n",
    "i = 0\n",
    "for r in itertools.repeat(True):\n",
    "    print(r)\n",
    "    i += 1\n",
    "    if i >= 10: break"
   ]
  },
  {
   "cell_type": "code",
   "execution_count": 18,
   "metadata": {},
   "outputs": [
    {
     "name": "stdout",
     "output_type": "stream",
     "text": [
      "(1, 2, 3)\n",
      "(1, 3, 2)\n",
      "(2, 1, 3)\n",
      "(2, 3, 1)\n",
      "(3, 1, 2)\n",
      "(3, 2, 1)\n",
      "('bob', 'john', 'linda')\n",
      "('bob', 'linda', 'john')\n",
      "('john', 'bob', 'linda')\n",
      "('john', 'linda', 'bob')\n",
      "('linda', 'bob', 'john')\n",
      "('linda', 'john', 'bob')\n"
     ]
    }
   ],
   "source": [
    "# permutations - all posssible orders of a data\n",
    "dic1 = {1:'bob' , 2:'john' , 3:'linda'}\n",
    "for p1 in itertools.permutations(dic1):\n",
    "    print(p1)\n",
    "    \n",
    "for p2 in itertools.permutations(dic1.values()):\n",
    "    print(p2)"
   ]
  },
  {
   "cell_type": "code",
   "execution_count": 20,
   "metadata": {},
   "outputs": [
    {
     "name": "stdout",
     "output_type": "stream",
     "text": [
      "('red', 'blue')\n",
      "('red', 'green')\n",
      "('red', 'pink')\n",
      "('blue', 'green')\n",
      "('blue', 'pink')\n",
      "('green', 'pink')\n"
     ]
    }
   ],
   "source": [
    "# combinations - all posssible orders of a particular number of data\n",
    "colors = ['red', 'blue', 'green', 'pink']\n",
    "for c in itertools.combinations(colors, 2):\n",
    "    print(c)"
   ]
  },
  {
   "cell_type": "markdown",
   "metadata": {},
   "source": [
    "# command line arguments"
   ]
  },
  {
   "cell_type": "code",
   "execution_count": 25,
   "metadata": {},
   "outputs": [],
   "source": [
    "# assuming that some arguments are passed as file runs in cmd\n",
    "import sys"
   ]
  },
  {
   "cell_type": "code",
   "execution_count": 26,
   "metadata": {},
   "outputs": [
    {
     "name": "stdout",
     "output_type": "stream",
     "text": [
      "['C:\\\\Users\\\\Amirhossein\\\\Anaconda3\\\\lib\\\\site-packages\\\\ipykernel_launcher.py', '-f', 'C:\\\\Users\\\\Amirhossein\\\\AppData\\\\Roaming\\\\jupyter\\\\runtime\\\\kernel-cc794b46-5e36-4946-9832-c6e03807c0ae.json']\n"
     ]
    }
   ],
   "source": [
    "print(sys.argv) # prints the arguments, first argument is file path"
   ]
  },
  {
   "cell_type": "code",
   "execution_count": 28,
   "metadata": {},
   "outputs": [
    {
     "name": "stdout",
     "output_type": "stream",
     "text": [
      "['C:\\\\Users\\\\Amirhossein\\\\AppData\\\\Roaming\\\\jupyter\\\\runtime\\\\kernel-cc794b46-5e36-4946-9832-c6e03807c0ae.json']\n"
     ]
    }
   ],
   "source": [
    "sys.argv.remove(sys.argv[0]) # removes the first argument\n",
    "print(sys.argv)"
   ]
  },
  {
   "cell_type": "markdown",
   "metadata": {},
   "source": [
    "# tempfile"
   ]
  },
  {
   "cell_type": "code",
   "execution_count": 1,
   "metadata": {},
   "outputs": [],
   "source": [
    "import tempfile"
   ]
  },
  {
   "cell_type": "code",
   "execution_count": 4,
   "metadata": {},
   "outputs": [
    {
     "name": "stdout",
     "output_type": "stream",
     "text": [
      "b'some data on temp file'\n"
     ]
    }
   ],
   "source": [
    "tmp = tempfile.TemporaryFile()\n",
    "tmp.write(b'some data on temp file')  # b changes data to byte\n",
    "tmp.seek(0)\n",
    "print(tmp.read())\n",
    "tmp.close()"
   ]
  },
  {
   "cell_type": "markdown",
   "metadata": {},
   "source": [
    "# HTML parser"
   ]
  },
  {
   "cell_type": "code",
   "execution_count": 3,
   "metadata": {},
   "outputs": [
    {
     "name": "stdout",
     "output_type": "stream",
     "text": [
      "Start tag:  html\n",
      "Start tag:  head\n",
      "Start tag:  title\n",
      "Data:  Code\n",
      "End tag:  title\n",
      "End tag:  head\n",
      "Start tag:  body\n",
      "Start tag:  h1\n",
      "Comment:  hi!\n",
      "Data:  I am a Coder!\n",
      "End tag:  h1\n",
      "End tag:  body\n",
      "End tag:  html\n",
      "\n"
     ]
    }
   ],
   "source": [
    "from html.parser import HTMLParser\n",
    "class HTMLParser(HTMLParser):\n",
    "    def handle_starttag(self, tag, attrs):\n",
    "        print('Start tag: ', tag)\n",
    "        for atr in attrs:\n",
    "            print('attrs:', atr)\n",
    "    def handle_endtag(self, tag):\n",
    "        print('End tag: ', tag)\n",
    "    def handle_comment(self,com):\n",
    "        print('Comment: ', com)\n",
    "    def handle_data(self, data):\n",
    "        print('Data: ', data)\n",
    "\n",
    "parser = HTMLParser()\n",
    "parser.feed('<html><head><title>Code</title></head><body><h1><!--hi!-->I am a Coder!</h1></body></html>')\n",
    "print()"
   ]
  },
  {
   "cell_type": "code",
   "execution_count": 4,
   "metadata": {},
   "outputs": [
    {
     "name": "stdout",
     "output_type": "stream",
     "text": [
      "Put soem HTML code: <h1>Some code!</h1>\n",
      "Start tag:  h1\n",
      "Data:  Some code!\n",
      "End tag:  h1\n",
      "\n"
     ]
    }
   ],
   "source": [
    "# html data from consule\n",
    "inhtml = input('Put soem HTML code: ')\n",
    "parser.feed(inhtml)\n",
    "print()"
   ]
  },
  {
   "cell_type": "code",
   "execution_count": 6,
   "metadata": {},
   "outputs": [
    {
     "name": "stdout",
     "output_type": "stream",
     "text": [
      "Start tag:  h2\n",
      "Data:  Welcome\n",
      "End tag:  h2\n",
      "Data:  \n",
      "\n",
      "Start tag:  p\n",
      "Data:  Welcome to my blog\n",
      "End tag:  p\n"
     ]
    }
   ],
   "source": [
    "# html data from a file\n",
    "htmlfile = open('sample_html.html', 'r')\n",
    "s = ''\n",
    "for line in htmlfile:\n",
    "    s += line\n",
    "parser.feed(s)"
   ]
  },
  {
   "cell_type": "markdown",
   "metadata": {},
   "source": [
    "# text wrap"
   ]
  },
  {
   "cell_type": "code",
   "execution_count": 23,
   "metadata": {},
   "outputs": [
    {
     "name": "stdout",
     "output_type": "stream",
     "text": [
      "No Dedent:\n",
      "    This is a text data for testing text wrapper module in Python\n",
      "standard libaray.\n",
      "-------------\n",
      "Dedent: \n",
      "This is a text data\n",
      "for testing text wrapper module\n",
      "in Python standard libaray.\n",
      "-------------\n",
      "Fill: \n",
      "This is a text data for testing text wrapper module in Python standard libaray.\n",
      "\n",
      "This is a\n",
      "text data\n",
      "for\n",
      "testing\n",
      "text\n",
      "wrapper\n",
      "module in\n",
      "Python\n",
      "standard\n",
      "libaray.\n",
      "-------------\n",
      "Controlled indent: \n",
      "   This is a text data for testing text wrapper module in Python\n",
      "        standard libaray.\n",
      "-------------\n",
      "Shortening text: \n",
      "Some text data...\n"
     ]
    }
   ],
   "source": [
    "import textwrap\n",
    "textdata = '''    This is a text data\n",
    "for testing text wrapper module\n",
    "in Python standard libaray.'''\n",
    "\n",
    "print('No Dedent:')                           # keeps the beginning tab, does not keep the enters\n",
    "print(textwrap.fill(textdata))          \n",
    "print('-------------')\n",
    "\n",
    "print('Dedent: ')                            # removes the beginning spases and keeps our enters\n",
    "dedtxt = textwrap.dedent(textdata).strip()\n",
    "print(dedtxt)\n",
    "print('-------------')\n",
    "\n",
    "print('Fill: ')\n",
    "print(textwrap.fill(dedtxt, width=80))      # sets next line by rhe given width\n",
    "print('')\n",
    "print(textwrap.fill(dedtxt, width=10))\n",
    "print('-------------')\n",
    "\n",
    "print('Controlled indent: ')\n",
    "print(textwrap.fill(dedtxt, initial_indent='   ' , subsequent_indent='        '))\n",
    "print('-------------')\n",
    "\n",
    "print('Shortening text: ')\n",
    "shr = textwrap.shorten('Some text data for testing', width=20, placeholder='...')\n",
    "print(shr)"
   ]
  },
  {
   "cell_type": "markdown",
   "metadata": {},
   "source": [
    "# HTTP package, urllib, json"
   ]
  },
  {
   "cell_type": "code",
   "execution_count": 32,
   "metadata": {},
   "outputs": [
    {
     "name": "stdout",
     "output_type": "stream",
     "text": [
      "{  \"kind\": \"books#volumes\",  \"totalItems\": 1,\n",
      "\"items\": [   {    \"kind\": \"books#volume\",    \"id\":\n",
      "\"1imJDAAAQBAJ\",    \"etag\": \"I6DIl71MSQo\",\n",
      "\"selfLink\": \"https://www.googleapis.com/books/v1/v\n",
      "olumes/1imJDAAAQBAJ\",    \"volumeInfo\": {\n",
      "\"title\": \"Dark Matter\",     \"subtitle\": \"A Novel\",\n",
      "\"authors\": [      \"Blake Crouch\"     ],\n",
      "\"publisher\": \"Crown Books\",     \"publishedDate\":\n",
      "\"2016\",     \"description\": \"A mind-bending,\n",
      "relentlessly paced science-fiction thriller, in\n",
      "which an ordinary man is kidnapped, knocked\n",
      "unconscious--and awakens in a world inexplicably\n",
      "different from the reality he thought he knew.\",\n",
      "\"industryIdentifiers\": [      {       \"type\":\n",
      "\"ISBN_13\",       \"identifier\": \"9781101904220\"\n",
      "},      {       \"type\": \"ISBN_10\",\n",
      "\"identifier\": \"1101904224\"      }     ],\n",
      "\"readingModes\": {      \"text\": false,\n",
      "\"image\": false     },     \"pageCount\": 342,\n",
      "\"printType\": \"BOOK\",     \"categories\": [\n",
      "\"Fiction\"     ],     \"averageRating\": 4.0,\n",
      "\"ratingsCount\": 944,     \"maturityRating\":\n",
      "\"NOT_MATURE\",     \"allowAnonLogging\": false,\n",
      "\"contentVersion\": \"0.1.0.0.preview.0\",\n",
      "\"panelizationSummary\": {\n",
      "\"containsEpubBubbles\": false,\n",
      "\"containsImageBubbles\": false     },\n",
      "\"imageLinks\": {      \"smallThumbnail\": \"http://boo\n",
      "ks.google.com/books/content?id=1imJDAAAQBAJ&prints\n",
      "ec=frontcover&img=1&zoom=5&source=gbs_api\",\n",
      "\"thumbnail\": \"http://books.google.com/books/conten\n",
      "t?id=1imJDAAAQBAJ&printsec=frontcover&img=1&zoom=1\n",
      "&source=gbs_api\"     },     \"language\": \"en\",\n",
      "\"previewLink\": \"http://books.google.com/books?id=1\n",
      "imJDAAAQBAJ&dq=isbn:1101904224&hl=&cd=1&source=gbs\n",
      "_api\",     \"infoLink\": \"http://books.google.com/bo\n",
      "oks?id=1imJDAAAQBAJ&dq=isbn:1101904224&hl=&source=\n",
      "gbs_api\",     \"canonicalVolumeLink\": \"https://book\n",
      "s.google.com/books/about/Dark_Matter.html?hl=&id=1\n",
      "imJDAAAQBAJ\"    },    \"saleInfo\": {     \"country\":\n",
      "\"IR\",     \"saleability\": \"NOT_FOR_SALE\",\n",
      "\"isEbook\": false    },    \"accessInfo\": {\n",
      "\"country\": \"IR\",     \"viewability\": \"NO_PAGES\",\n",
      "\"embeddable\": false,     \"publicDomain\": false,\n",
      "\"textToSpeechPermission\": \"ALLOWED\",     \"epub\": {\n",
      "\"isAvailable\": false     },     \"pdf\": {\n",
      "\"isAvailable\": false     },     \"webReaderLink\": \"\n",
      "http://play.google.com/books/reader?id=1imJDAAAQBA\n",
      "J&hl=&printsec=frontcover&source=gbs_api\",\n",
      "\"accessViewStatus\": \"NONE\",\n",
      "\"quoteSharingAllowed\": false    },\n",
      "\"searchInfo\": {     \"textSnippet\": \"A mind-\n",
      "bending, relentlessly paced science-fiction\n",
      "thriller, in which an ordinary man is kidnapped,\n",
      "knocked unconscious--and awakens in a world\n",
      "inexplicably different from the reality he thought\n",
      "he knew.\"    }   }  ] }\n",
      "------------------------------------------\n",
      "books#volumes\n",
      "------------------------------------------\n",
      "A mind-bending, relentlessly paced science-fiction thriller, in which an ordinary man is kidnapped, knocked unconscious--and awakens in a world inexplicably different from the reality he thought he knew.\n"
     ]
    }
   ],
   "source": [
    "import urllib.request\n",
    "import json\n",
    "import textwrap\n",
    "\n",
    "with urllib.request.urlopen(\"https://www.googleapis.com/books/v1/volumes?q=isbn:1101904224\") as f:\n",
    "    text = f.read()\n",
    "    decodedtext = text.decode('utf-8')\n",
    "    print(textwrap.fill(decodedtext, width=50))\n",
    "print('------------------------------------------')\n",
    "\n",
    "obj = json.loads(decodedtext)\n",
    "print(obj['kind'])\n",
    "print('------------------------------------------')\n",
    "\n",
    "print(obj['items'][0]['searchInfo']['textSnippet'])"
   ]
  },
  {
   "cell_type": "code",
   "execution_count": null,
   "metadata": {},
   "outputs": [],
   "source": []
  }
 ],
 "metadata": {
  "kernelspec": {
   "display_name": "Python 3",
   "language": "python",
   "name": "python3"
  },
  "language_info": {
   "codemirror_mode": {
    "name": "ipython",
    "version": 3
   },
   "file_extension": ".py",
   "mimetype": "text/x-python",
   "name": "python",
   "nbconvert_exporter": "python",
   "pygments_lexer": "ipython3",
   "version": "3.5.2"
  }
 },
 "nbformat": 4,
 "nbformat_minor": 2
}
